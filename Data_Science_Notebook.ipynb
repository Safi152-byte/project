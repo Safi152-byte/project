{
 "cells": [
  {
   "cell_type": "code",
   "execution_count": null,
   "id": "1091db9e-4f1e-4bba-8788-cc123f772f57",
   "metadata": {},
   "outputs": [],
   "source": [
    "Data Science Notebook"
   ]
  },
  {
   "cell_type": "code",
   "execution_count": null,
   "id": "f82960b3-3cca-42f3-a1c5-ef5eda859a9b",
   "metadata": {},
   "outputs": [],
   "source": [
    "# Data Science Languages\n",
    "- Python\n",
    "- R\n",
    "- SQL\n",
    "- Java\n",
    "- Julia\n",
    "- Scala\n",
    "- C++"
   ]
  },
  {
   "cell_type": "code",
   "execution_count": null,
   "id": "23dd8b9e-7fd1-448b-943d-537abee5d47c",
   "metadata": {},
   "outputs": [],
   "source": [
    "## Data Science Libraries\n",
    "- NumPy\n",
    "- Pandas\n",
    "- Matplotlib\n",
    "- Seaborn\n",
    "- Scikit-learn\n",
    "- TensorFlow\n",
    "- PyTorch"
   ]
  },
  {
   "cell_type": "code",
   "execution_count": null,
   "id": "2b9cad41-530b-4e1e-8d4d-2c595545e244",
   "metadata": {},
   "outputs": [],
   "source": [
    "## Data Science Tools\n",
    "\n",
    " Tool          Description                              \n",
    "\n",
    "| Jupyter Notebook:  Interactive coding environment \n",
    "| RStudio:        IDE for R programming       \n",
    "| Apache Spark:    Big data processing framework \n",
    "| TensorFlow:      Machine learning framework   \n",
    "| Power BI:        Data visualization tool      \n"
   ]
  },
  {
   "cell_type": "code",
   "execution_count": null,
   "id": "f80d904f-d7ee-4b0e-82fc-2646e3da9c6d",
   "metadata": {},
   "outputs": [],
   "source": [
    "## Arithmetic Expression Examples\n",
    "Arithmetic expressions are used in data science to perform mathematical calculations.\n",
    "\n",
    "## Code to Multiply and Add Numbers\n",
    "\n",
    "# Multiply and add numbers\n",
    "result = (3 * 4) + 5\n",
    "print(\"Result:\", result)\n"
   ]
  },
  {
   "cell_type": "code",
   "execution_count": null,
   "id": "136fe79e-28db-4eac-80ae-0e077afc2a2a",
   "metadata": {},
   "outputs": [],
   "source": [
    "## Code to Convert Minutes to Hours\n",
    "\n",
    "# Convert minutes to hours\n",
    "minutes = 120\n",
    "hours = minutes / 60\n",
    "print(\"Hours:\", hours)\n"
   ]
  },
  {
   "cell_type": "code",
   "execution_count": null,
   "id": "cb5b7b19-5f6e-4825-b211-c13e33ac642c",
   "metadata": {},
   "outputs": [],
   "source": [
    "## Objectives\n",
    "- Learn about data science languages\n",
    "- Explore key data science libraries\n",
    "- Understand tools used in data science\n",
    "- Perform arithmetic operations in Python"
   ]
  },
  {
   "cell_type": "code",
   "execution_count": null,
   "id": "78dd4d44-27cb-41f7-bd92-775638c04697",
   "metadata": {},
   "outputs": [],
   "source": [
    "## Author\n",
    "**Sarfaraz Ahmed **"
   ]
  }
 ],
 "metadata": {
  "kernelspec": {
   "display_name": "Python 3 (ipykernel)",
   "language": "python",
   "name": "python3"
  },
  "language_info": {
   "codemirror_mode": {
    "name": "ipython",
    "version": 3
   },
   "file_extension": ".py",
   "mimetype": "text/x-python",
   "name": "python",
   "nbconvert_exporter": "python",
   "pygments_lexer": "ipython3",
   "version": "3.11.7"
  }
 },
 "nbformat": 4,
 "nbformat_minor": 5
}
